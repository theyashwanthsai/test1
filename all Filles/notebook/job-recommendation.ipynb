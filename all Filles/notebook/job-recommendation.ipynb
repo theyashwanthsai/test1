{
 "cells": [
  {
   "cell_type": "markdown",
   "metadata": {},
   "source": [
    "#### This time, I'm also working on the Google Job dataset. While this time, I would like to build a simple recommendation system based on the scenario of looking for a position and finding similar openings for users this time"
   ]
  },
  {
   "cell_type": "markdown",
   "metadata": {},
   "source": [
    "![google](http://img.technews.tw/wp-content/uploads/2015/09/Google-logo_1.jpg)"
   ]
  },
  {
   "cell_type": "markdown",
   "metadata": {},
   "source": [
    "# Outline\n",
    "\n",
    "## Recommendation System\n",
    "\n",
    "- [EDA](#0)   \n",
    "    * I'll do simple exploratory on the data structure and values\n",
    "- [Modeling](#1)\n",
    "    * I'll start to test out vectorize text and find similar positions based on job description\n",
    "- [Finalizing](#2)\n",
    "    * Will also consider requirements in this part\n",
    "    \n",
    "## [Text Clustering](#Cluster)"
   ]
  },
  {
   "cell_type": "code",
   "execution_count": 1,
   "metadata": {
    "_cell_guid": "b1076dfc-b9ad-4769-8c92-a6c4dae69d19",
    "_uuid": "8f2839f25d086af736a60e9eeb907d3b93b6e0e5"
   },
   "outputs": [
    {
     "ename": "ModuleNotFoundError",
     "evalue": "No module named 'numpy'",
     "output_type": "error",
     "traceback": [
      "\u001b[1;31m---------------------------------------------------------------------------\u001b[0m",
      "\u001b[1;31mModuleNotFoundError\u001b[0m                       Traceback (most recent call last)",
      "\u001b[1;32m<ipython-input-1-7f085e938421>\u001b[0m in \u001b[0;36m<module>\u001b[1;34m\u001b[0m\n\u001b[1;32m----> 1\u001b[1;33m \u001b[1;32mimport\u001b[0m \u001b[0mnumpy\u001b[0m \u001b[1;32mas\u001b[0m \u001b[0mnp\u001b[0m \u001b[1;31m# linear algebra\u001b[0m\u001b[1;33m\u001b[0m\u001b[1;33m\u001b[0m\u001b[0m\n\u001b[0m\u001b[0;32m      2\u001b[0m \u001b[1;32mimport\u001b[0m \u001b[0mpandas\u001b[0m \u001b[1;32mas\u001b[0m \u001b[0mpd\u001b[0m \u001b[1;31m# data processing, CSV file I/O (e.g. pd.read_csv)\u001b[0m\u001b[1;33m\u001b[0m\u001b[1;33m\u001b[0m\u001b[0m\n\u001b[0;32m      3\u001b[0m \u001b[1;32mimport\u001b[0m \u001b[0mmatplotlib\u001b[0m\u001b[1;33m.\u001b[0m\u001b[0mpyplot\u001b[0m \u001b[1;32mas\u001b[0m \u001b[0mplt\u001b[0m\u001b[1;33m\u001b[0m\u001b[1;33m\u001b[0m\u001b[0m\n\u001b[0;32m      4\u001b[0m \u001b[0mget_ipython\u001b[0m\u001b[1;33m(\u001b[0m\u001b[1;33m)\u001b[0m\u001b[1;33m.\u001b[0m\u001b[0mrun_line_magic\u001b[0m\u001b[1;33m(\u001b[0m\u001b[1;34m'matplotlib'\u001b[0m\u001b[1;33m,\u001b[0m \u001b[1;34m'inline'\u001b[0m\u001b[1;33m)\u001b[0m\u001b[1;33m\u001b[0m\u001b[1;33m\u001b[0m\u001b[0m\n\u001b[0;32m      5\u001b[0m \u001b[1;32mimport\u001b[0m \u001b[0mseaborn\u001b[0m \u001b[1;32mas\u001b[0m \u001b[0msns\u001b[0m\u001b[1;33m\u001b[0m\u001b[1;33m\u001b[0m\u001b[0m\n",
      "\u001b[1;31mModuleNotFoundError\u001b[0m: No module named 'numpy'"
     ]
    }
   ],
   "source": [
    "import numpy as np # linear algebra\n",
    "import pandas as pd # data processing, CSV file I/O (e.g. pd.read_csv)\n",
    "import matplotlib.pyplot as plt\n",
    "%matplotlib inline\n",
    "import seaborn as sns\n",
    "plt.style.use('ggplot')\n",
    "\n",
    "import warnings\n",
    "warnings.filterwarnings('ignore')"
   ]
  },
  {
   "cell_type": "code",
   "execution_count": null,
   "metadata": {
    "_cell_guid": "79c7e3d0-c299-4dcb-8224-4455121ee9b0",
    "_uuid": "d629ff2d2480ee46fbb7e2d37f6b5fab8052498a"
   },
   "outputs": [],
   "source": [
    "df = pd.read_csv('job_skills.csv')"
   ]
  },
  {
   "cell_type": "markdown",
   "metadata": {},
   "source": [
    "## [EDA](#0)\n",
    "\n",
    "**First, I would like to know more about the data**\n",
    "\n",
    "- Starting from the columns\n",
    "- Then, the text pattern in columns\n",
    "- Finally, the correlation between different positions"
   ]
  },
  {
   "cell_type": "code",
   "execution_count": null,
   "metadata": {},
   "outputs": [
    {
     "data": {
      "text/html": [
       "<div>\n",
       "<style scoped>\n",
       "    .dataframe tbody tr th:only-of-type {\n",
       "        vertical-align: middle;\n",
       "    }\n",
       "\n",
       "    .dataframe tbody tr th {\n",
       "        vertical-align: top;\n",
       "    }\n",
       "\n",
       "    .dataframe thead th {\n",
       "        text-align: right;\n",
       "    }\n",
       "</style>\n",
       "<table border=\"1\" class=\"dataframe\">\n",
       "  <thead>\n",
       "    <tr style=\"text-align: right;\">\n",
       "      <th></th>\n",
       "      <th>Company</th>\n",
       "      <th>Title</th>\n",
       "      <th>Category</th>\n",
       "      <th>Location</th>\n",
       "      <th>Responsibilities</th>\n",
       "      <th>Minimum Qualifications</th>\n",
       "      <th>Preferred Qualifications</th>\n",
       "    </tr>\n",
       "  </thead>\n",
       "  <tbody>\n",
       "    <tr>\n",
       "      <th>0</th>\n",
       "      <td>Google</td>\n",
       "      <td>Google Cloud Program Manager</td>\n",
       "      <td>Program Management</td>\n",
       "      <td>Singapore</td>\n",
       "      <td>Shape, shepherd, ship, and show technical programs designed to support the work of Cloud Customer Engineers and Solutions Architects.\\nMeasure and report on key metrics tied to those programs to identify any need to change course, cancel, or scale the programs from a regional to global platform.\\nCommunicate status and identify any obstacles and paths for resolution to stakeholders, including those in senior roles, in a transparent, regular, professional and timely manner.\\nEstablish expectations and rationale on deliverables for stakeholders and program contributors.\\nProvide program performance feedback to teams in Product, Engineering, Sales, and Marketing (among others) to enable efficient cross-team operations.</td>\n",
       "      <td>BA/BS degree or equivalent practical experience.\\n3 years of experience in program and/or project management in cloud computing, enterprise software and/or marketing technologies.</td>\n",
       "      <td>Experience in the business technology market as a program manager in SaaS, cloud computing, and/or emerging technologies.\\nSignificant cross-functional experience across engineering, sales, and marketing teams in cloud computing or related technical fields.\\nProven successful program outcomes from idea to launch in multiple contexts throughout your career.\\nAbility to manage the expectations, demands and priorities of multiple internal stakeholders based on overarching vision and success for global team health.\\nAbility to work under pressure and possess flexibility with changing needs and direction in a rapidly-growing organization.\\nStrong organization and communication skills.</td>\n",
       "    </tr>\n",
       "    <tr>\n",
       "      <th>1</th>\n",
       "      <td>Google</td>\n",
       "      <td>Supplier Development Engineer (SDE), Cable/Connector</td>\n",
       "      <td>Manufacturing &amp; Supply Chain</td>\n",
       "      <td>Shanghai, China</td>\n",
       "      <td>Drive cross-functional activities in the supply chain for overall Technical Operational readiness in all NPI phases leading into mass production.\\nCollaborate with suppliers and Engineering teams in assessing process technologies based on project requirements, and propose and develop the manufacturing blueprint including process flow, equipment/fixture designs, implementation schedules and validation plans for engineering builds and mass production.\\nDrive project technical and operational issues with material, process, fixtures, equipment, etc. during the NPI phase to enable delivery of a mature product and manufacturing process into mass production. Support/drive continuous improvement efforts in the supply chain.\\nLead suppliers by providing technical direction to establish and validate (utilizing statistical tools) process capability during the NPI phase for consistently delivering a quality product in mass production.\\nUtilize DOE’s, FMEA and other Industry standard tools to proactively identify and address risks and optimize process parameters.</td>\n",
       "      <td>BS degree in an Engineering discipline or equivalent practical experience.\\n7 years of experience in Cable/Connector Design or Manufacturing in an NPI role.\\nExperience working with Interconnect Engineering and Product Design (PD)/Mechanical Engineer in developing, manufacturing and testing.\\nAbility to speak and write in English and Mandarin fluently and idiomatically.</td>\n",
       "      <td>BSEE, BSME or BSIE degree.\\nExperience of using Statistics tools for Data analysis, e.g. distribution histogram/pareto chart, process control chart, Design of Experiment (DOE), Correlation Analysis, etc.\\nDemonstrated knowledge in PCBA manufacturing process and quality control.\\nFamilar with cable/connector related components' manufacturing: moldling, stamping, die-casting, LIM, MIM process and materials.\\nSelf starter with innovation, integrity and attention to detail.\\nAbility to travel up to 50% of the time</td>\n",
       "    </tr>\n",
       "    <tr>\n",
       "      <th>2</th>\n",
       "      <td>Google</td>\n",
       "      <td>Data Analyst, Product and Tools Operations, Google Technical Services</td>\n",
       "      <td>Technical Solutions</td>\n",
       "      <td>New York, NY, United States</td>\n",
       "      <td>Collect and analyze data to draw insight and identify strategic solutions.\\nBuild consensus by facilitating broad collaboration with clear communication and documentation.\\nWork with cross-functional stakeholders to gather requirements, manage implementation, and drive delivery of projects.</td>\n",
       "      <td>Bachelor’s degree in Business, Economics, Statistics, Operations Research or related analytical field, or equivalent practical experience.\\n2 years of work experience in business analysis.\\n1 year of experience with statistical modeling, forecasting or machine learning. Experience with R, SAS or Python.\\n1 year of experience developing and manipulating large datasets.</td>\n",
       "      <td>Experience partnering or consulting cross-functionally with senior stakeholders.\\nProficiency in a database query language (e.g. SQL).\\nAbility to manage multiple projects in an ambiguous environment.\\nStrong presentation and communication skills with the ability to communicate statistical concepts and explain recommendations to non-experts.</td>\n",
       "    </tr>\n",
       "    <tr>\n",
       "      <th>3</th>\n",
       "      <td>Google</td>\n",
       "      <td>Developer Advocate, Partner Engineering</td>\n",
       "      <td>Developer Relations</td>\n",
       "      <td>Mountain View, CA, United States</td>\n",
       "      <td>Work one-on-one with the top Android, iOS, and web engineers to build exciting new product/API integrations that drive adoption of Google’s developer platforms.\\nConceive new features and ideas that can change how users interact with apps and Google, and help developers build them.\\nConduct regular, engineering-focused meetings with developers to help them design new systems, fix bugs, improve UX, and solve complex code issues.\\nWork on the source code of Google's products with other engineers to identify, reproduce, and/or fix bugs that are affecting developers.</td>\n",
       "      <td>BA/BS degree in Computer Science or equivalent practical experience.\\nExperience working directly with partners.\\nProgramming experience in one or more of the following languages/platforms: Android, Java, Kotlin, iOS, Javascript.</td>\n",
       "      <td>Experience as a software developer, architect, technology advocate, CTO, or consultant working with web or mobile technologies.\\nExperience working with third parties.\\nExperience interacting with clients or internal stakeholders.\\nKnowledge of web application or mobile application development landscapes.</td>\n",
       "    </tr>\n",
       "    <tr>\n",
       "      <th>4</th>\n",
       "      <td>Google</td>\n",
       "      <td>Program Manager, Audio Visual (AV) Deployments</td>\n",
       "      <td>Program Management</td>\n",
       "      <td>Sunnyvale, CA, United States</td>\n",
       "      <td>Plan requirements with internal customers.\\nProvide portfolio reports and forecasts to Regional Service Delivery Manager. Manage vendor PM services to usher projects through the entire lifecycle.\\nPlan finances and tracking across a portfolio of projects.\\nEnsure that any changes in scope, schedule or cost are managed in accordance with the agreed change order procedures. Interface with cross functional stakeholders to understand and communicate program strategy and priorities.\\nEnsure project closure processes are completed - including handover to support. Help to validate new and improve existing products by partnering with AV Eng teams. Set operational goals and lead ongoing process and program improvement initiatives.</td>\n",
       "      <td>BA/BS degree or equivalent practical experience.\\n4 years of experience managing large scale Global AV Deployments.\\nExperience managing vendors to deliver defined projects.\\nExperience in Audio/Visual and Video Conferencing design, system integration and resolution.</td>\n",
       "      <td>CTS Certification.\\nExperience in the construction sector.\\nExperience with project management software and reporting tools.\\nAbility to understand technical subjects and emerging technologies and their relevance to the marketplace.\\nBusiness management and consulting skills.\\nExcellent interpersonal and relationship building skills across multiple stakeholders at varying levels.</td>\n",
       "    </tr>\n",
       "  </tbody>\n",
       "</table>\n",
       "</div>"
      ],
      "text/plain": [
       "  Company  \\\n",
       "0  Google   \n",
       "1  Google   \n",
       "2  Google   \n",
       "3  Google   \n",
       "4  Google   \n",
       "\n",
       "                                                                   Title  \\\n",
       "0  Google Cloud Program Manager                                            \n",
       "1  Supplier Development Engineer (SDE), Cable/Connector                    \n",
       "2  Data Analyst, Product and Tools Operations, Google Technical Services   \n",
       "3  Developer Advocate, Partner Engineering                                 \n",
       "4  Program Manager, Audio Visual (AV) Deployments                          \n",
       "\n",
       "                       Category                          Location  \\\n",
       "0  Program Management            Singapore                          \n",
       "1  Manufacturing & Supply Chain  Shanghai, China                    \n",
       "2  Technical Solutions           New York, NY, United States        \n",
       "3  Developer Relations           Mountain View, CA, United States   \n",
       "4  Program Management            Sunnyvale, CA, United States       \n",
       "\n",
       "                                                                                                                                                                                                                                                                                                                                                                                                                                                                                                                                                                                                                                                                                                                                                                                                                                                                                                                                                                                                                                                                                             Responsibilities  \\\n",
       "0  Shape, shepherd, ship, and show technical programs designed to support the work of Cloud Customer Engineers and Solutions Architects.\\nMeasure and report on key metrics tied to those programs to identify any need to change course, cancel, or scale the programs from a regional to global platform.\\nCommunicate status and identify any obstacles and paths for resolution to stakeholders, including those in senior roles, in a transparent, regular, professional and timely manner.\\nEstablish expectations and rationale on deliverables for stakeholders and program contributors.\\nProvide program performance feedback to teams in Product, Engineering, Sales, and Marketing (among others) to enable efficient cross-team operations.                                                                                                                                                                                                                                                                                                                                                        \n",
       "1  Drive cross-functional activities in the supply chain for overall Technical Operational readiness in all NPI phases leading into mass production.\\nCollaborate with suppliers and Engineering teams in assessing process technologies based on project requirements, and propose and develop the manufacturing blueprint including process flow, equipment/fixture designs, implementation schedules and validation plans for engineering builds and mass production.\\nDrive project technical and operational issues with material, process, fixtures, equipment, etc. during the NPI phase to enable delivery of a mature product and manufacturing process into mass production. Support/drive continuous improvement efforts in the supply chain.\\nLead suppliers by providing technical direction to establish and validate (utilizing statistical tools) process capability during the NPI phase for consistently delivering a quality product in mass production.\\nUtilize DOE’s, FMEA and other Industry standard tools to proactively identify and address risks and optimize process parameters.   \n",
       "2  Collect and analyze data to draw insight and identify strategic solutions.\\nBuild consensus by facilitating broad collaboration with clear communication and documentation.\\nWork with cross-functional stakeholders to gather requirements, manage implementation, and drive delivery of projects.                                                                                                                                                                                                                                                                                                                                                                                                                                                                                                                                                                                                                                                                                                                                                                                                          \n",
       "3  Work one-on-one with the top Android, iOS, and web engineers to build exciting new product/API integrations that drive adoption of Google’s developer platforms.\\nConceive new features and ideas that can change how users interact with apps and Google, and help developers build them.\\nConduct regular, engineering-focused meetings with developers to help them design new systems, fix bugs, improve UX, and solve complex code issues.\\nWork on the source code of Google's products with other engineers to identify, reproduce, and/or fix bugs that are affecting developers.                                                                                                                                                                                                                                                                                                                                                                                                                                                                                                                    \n",
       "4  Plan requirements with internal customers.\\nProvide portfolio reports and forecasts to Regional Service Delivery Manager. Manage vendor PM services to usher projects through the entire lifecycle.\\nPlan finances and tracking across a portfolio of projects.\\nEnsure that any changes in scope, schedule or cost are managed in accordance with the agreed change order procedures. Interface with cross functional stakeholders to understand and communicate program strategy and priorities.\\nEnsure project closure processes are completed - including handover to support. Help to validate new and improve existing products by partnering with AV Eng teams. Set operational goals and lead ongoing process and program improvement initiatives.                                                                                                                                                                                                                                                                                                                                                  \n",
       "\n",
       "                                                                                                                                                                                                                                                                                                                                                                 Minimum Qualifications  \\\n",
       "0  BA/BS degree or equivalent practical experience.\\n3 years of experience in program and/or project management in cloud computing, enterprise software and/or marketing technologies.                                                                                                                                                                                                    \n",
       "1  BS degree in an Engineering discipline or equivalent practical experience.\\n7 years of experience in Cable/Connector Design or Manufacturing in an NPI role.\\nExperience working with Interconnect Engineering and Product Design (PD)/Mechanical Engineer in developing, manufacturing and testing.\\nAbility to speak and write in English and Mandarin fluently and idiomatically.   \n",
       "2  Bachelor’s degree in Business, Economics, Statistics, Operations Research or related analytical field, or equivalent practical experience.\\n2 years of work experience in business analysis.\\n1 year of experience with statistical modeling, forecasting or machine learning. Experience with R, SAS or Python.\\n1 year of experience developing and manipulating large datasets.     \n",
       "3  BA/BS degree in Computer Science or equivalent practical experience.\\nExperience working directly with partners.\\nProgramming experience in one or more of the following languages/platforms: Android, Java, Kotlin, iOS, Javascript.                                                                                                                                                  \n",
       "4  BA/BS degree or equivalent practical experience.\\n4 years of experience managing large scale Global AV Deployments.\\nExperience managing vendors to deliver defined projects.\\nExperience in Audio/Visual and Video Conferencing design, system integration and resolution.                                                                                                            \n",
       "\n",
       "                                                                                                                                                                                                                                                                                                                                                                                                                                                                                                                                                                                                                                                                                           Preferred Qualifications  \n",
       "0  Experience in the business technology market as a program manager in SaaS, cloud computing, and/or emerging technologies.\\nSignificant cross-functional experience across engineering, sales, and marketing teams in cloud computing or related technical fields.\\nProven successful program outcomes from idea to launch in multiple contexts throughout your career.\\nAbility to manage the expectations, demands and priorities of multiple internal stakeholders based on overarching vision and success for global team health.\\nAbility to work under pressure and possess flexibility with changing needs and direction in a rapidly-growing organization.\\nStrong organization and communication skills.  \n",
       "1  BSEE, BSME or BSIE degree.\\nExperience of using Statistics tools for Data analysis, e.g. distribution histogram/pareto chart, process control chart, Design of Experiment (DOE), Correlation Analysis, etc.\\nDemonstrated knowledge in PCBA manufacturing process and quality control.\\nFamilar with cable/connector related components' manufacturing: moldling, stamping, die-casting, LIM, MIM process and materials.\\nSelf starter with innovation, integrity and attention to detail.\\nAbility to travel up to 50% of the time                                                                                                                                                                               \n",
       "2  Experience partnering or consulting cross-functionally with senior stakeholders.\\nProficiency in a database query language (e.g. SQL).\\nAbility to manage multiple projects in an ambiguous environment.\\nStrong presentation and communication skills with the ability to communicate statistical concepts and explain recommendations to non-experts.                                                                                                                                                                                                                                                                                                                                                           \n",
       "3  Experience as a software developer, architect, technology advocate, CTO, or consultant working with web or mobile technologies.\\nExperience working with third parties.\\nExperience interacting with clients or internal stakeholders.\\nKnowledge of web application or mobile application development landscapes.                                                                                                                                                                                                                                                                                                                                                                                                \n",
       "4  CTS Certification.\\nExperience in the construction sector.\\nExperience with project management software and reporting tools.\\nAbility to understand technical subjects and emerging technologies and their relevance to the marketplace.\\nBusiness management and consulting skills.\\nExcellent interpersonal and relationship building skills across multiple stakeholders at varying levels.                                                                                                                                                                                                                                                                                                                    "
      ]
     },
     "execution_count": 34,
     "metadata": {},
     "output_type": "execute_result"
    }
   ],
   "source": [
    "df.head()"
   ]
  },
  {
   "cell_type": "code",
   "execution_count": null,
   "metadata": {},
   "outputs": [],
   "source": [
    "# I modify the column name so that I can use df dot column name more easily\n",
    "df = df.rename(columns={'Minimum Qualifications': 'Minimum_Qualifications', 'Preferred Qualifications': 'Preferred_Qualifications'})"
   ]
  },
  {
   "cell_type": "code",
   "execution_count": null,
   "metadata": {},
   "outputs": [
    {
     "data": {
      "text/plain": [
       "Google     1227\n",
       "YouTube    23  \n",
       "Name: Company, dtype: int64"
      ]
     },
     "execution_count": 36,
     "metadata": {},
     "output_type": "execute_result"
    }
   ],
   "source": [
    "df.Company.value_counts()"
   ]
  },
  {
   "cell_type": "code",
   "execution_count": null,
   "metadata": {},
   "outputs": [
    {
     "data": {
      "text/plain": [
       "Sales & Account Management          168\n",
       "Marketing & Communications          165\n",
       "Finance                             115\n",
       "Technical Solutions                 101\n",
       "Business Strategy                   98 \n",
       "People Operations                   86 \n",
       "User Experience & Design            84 \n",
       "Program Management                  74 \n",
       "Partnerships                        60 \n",
       "Product & Customer Support          50 \n",
       "Legal & Government Relations        46 \n",
       "Administrative                      40 \n",
       "Software Engineering                31 \n",
       "Sales Operations                    31 \n",
       "Hardware Engineering                26 \n",
       "Real Estate & Workplace Services    25 \n",
       "Manufacturing & Supply Chain        16 \n",
       "Technical Infrastructure            11 \n",
       "Network Engineering                 6  \n",
       "IT & Data Management                5  \n",
       "Technical Writing                   5  \n",
       "Developer Relations                 5  \n",
       "Data Center & Network               2  \n",
       "Name: Category, dtype: int64"
      ]
     },
     "execution_count": 37,
     "metadata": {},
     "output_type": "execute_result"
    }
   ],
   "source": [
    "df.Category.value_counts()"
   ]
  },
  {
   "cell_type": "code",
   "execution_count": null,
   "metadata": {},
   "outputs": [
    {
     "data": {
      "text/plain": [
       "Mountain View, CA, United States    190\n",
       "Sunnyvale, CA, United States        155\n",
       "Dublin, Ireland                     87 \n",
       "New York, NY, United States         70 \n",
       "London, United Kingdom              62 \n",
       "San Francisco, CA, United States    49 \n",
       "Singapore                           41 \n",
       "Tokyo, Japan                        31 \n",
       "Sydney, Australia                   31 \n",
       "San Bruno, CA, United States        28 \n",
       "Name: Location, dtype: int64"
      ]
     },
     "execution_count": 38,
     "metadata": {},
     "output_type": "execute_result"
    }
   ],
   "source": [
    "df.Location.value_counts()[:10]"
   ]
  },
  {
   "cell_type": "code",
   "execution_count": null,
   "metadata": {},
   "outputs": [],
   "source": [
    "df['Country'] = df['Location'].apply(lambda x : x.split(',')[-1])"
   ]
  },
  {
   "cell_type": "code",
   "execution_count": null,
   "metadata": {},
   "outputs": [
    {
     "data": {
      "text/plain": [
       " United States     638\n",
       " Ireland           87 \n",
       " United Kingdom    62 \n",
       " Germany           54 \n",
       "Singapore          41 \n",
       " China             38 \n",
       " Australia         35 \n",
       " Japan             31 \n",
       " Taiwan            30 \n",
       " India             28 \n",
       "Name: Country, dtype: int64"
      ]
     },
     "execution_count": 40,
     "metadata": {},
     "output_type": "execute_result"
    }
   ],
   "source": [
    "df.Country.value_counts()[:10]"
   ]
  },
  {
   "cell_type": "code",
   "execution_count": null,
   "metadata": {},
   "outputs": [
    {
     "data": {
      "text/plain": [
       "Company                     0 \n",
       "Title                       0 \n",
       "Category                    0 \n",
       "Location                    0 \n",
       "Responsibilities            15\n",
       "Minimum_Qualifications      14\n",
       "Preferred_Qualifications    14\n",
       "Country                     0 \n",
       "dtype: int64"
      ]
     },
     "execution_count": 41,
     "metadata": {},
     "output_type": "execute_result"
    }
   ],
   "source": [
    "pd.isnull(df).sum()"
   ]
  },
  {
   "cell_type": "code",
   "execution_count": null,
   "metadata": {},
   "outputs": [],
   "source": [
    "df = df.dropna(how='any',axis='rows')"
   ]
  },
  {
   "cell_type": "markdown",
   "metadata": {},
   "source": [
    "## [Modeling](#1)"
   ]
  },
  {
   "cell_type": "code",
   "execution_count": null,
   "metadata": {},
   "outputs": [],
   "source": [
    "# Perform the necessary imports for similarity\n",
    "from sklearn.decomposition import NMF\n",
    "from sklearn.preprocessing import Normalizer, MaxAbsScaler\n",
    "from sklearn.pipeline import make_pipeline\n",
    "\n",
    "\n",
    "scaler = MaxAbsScaler()\n",
    "\n",
    "model = NMF(n_components=100)\n",
    "\n",
    "normalizer = Normalizer()\n",
    "\n",
    "# Create a pipeline: pipeline\n",
    "pipeline = make_pipeline(scaler,model,normalizer)"
   ]
  },
  {
   "cell_type": "code",
   "execution_count": null,
   "metadata": {},
   "outputs": [],
   "source": [
    "from sklearn.feature_extraction.text import TfidfVectorizer\n",
    "\n",
    "vectorizer = TfidfVectorizer()\n",
    "vectors_Responsibilities = vectorizer.fit_transform(df['Responsibilities'])"
   ]
  },
  {
   "cell_type": "code",
   "execution_count": null,
   "metadata": {},
   "outputs": [],
   "source": [
    "Responsibilities = pipeline.fit_transform(vectors_Responsibilities)"
   ]
  },
  {
   "cell_type": "code",
   "execution_count": null,
   "metadata": {},
   "outputs": [],
   "source": [
    "df_Responsibilities = pd.DataFrame(Responsibilities,index=df['Title'])"
   ]
  },
  {
   "cell_type": "code",
   "execution_count": null,
   "metadata": {},
   "outputs": [
    {
     "data": {
      "text/html": [
       "<div>\n",
       "<style scoped>\n",
       "    .dataframe tbody tr th:only-of-type {\n",
       "        vertical-align: middle;\n",
       "    }\n",
       "\n",
       "    .dataframe tbody tr th {\n",
       "        vertical-align: top;\n",
       "    }\n",
       "\n",
       "    .dataframe thead th {\n",
       "        text-align: right;\n",
       "    }\n",
       "</style>\n",
       "<table border=\"1\" class=\"dataframe\">\n",
       "  <thead>\n",
       "    <tr style=\"text-align: right;\">\n",
       "      <th></th>\n",
       "      <th>0</th>\n",
       "      <th>1</th>\n",
       "      <th>2</th>\n",
       "      <th>3</th>\n",
       "      <th>4</th>\n",
       "      <th>5</th>\n",
       "      <th>6</th>\n",
       "      <th>7</th>\n",
       "      <th>8</th>\n",
       "      <th>9</th>\n",
       "      <th>...</th>\n",
       "      <th>90</th>\n",
       "      <th>91</th>\n",
       "      <th>92</th>\n",
       "      <th>93</th>\n",
       "      <th>94</th>\n",
       "      <th>95</th>\n",
       "      <th>96</th>\n",
       "      <th>97</th>\n",
       "      <th>98</th>\n",
       "      <th>99</th>\n",
       "    </tr>\n",
       "    <tr>\n",
       "      <th>Title</th>\n",
       "      <th></th>\n",
       "      <th></th>\n",
       "      <th></th>\n",
       "      <th></th>\n",
       "      <th></th>\n",
       "      <th></th>\n",
       "      <th></th>\n",
       "      <th></th>\n",
       "      <th></th>\n",
       "      <th></th>\n",
       "      <th></th>\n",
       "      <th></th>\n",
       "      <th></th>\n",
       "      <th></th>\n",
       "      <th></th>\n",
       "      <th></th>\n",
       "      <th></th>\n",
       "      <th></th>\n",
       "      <th></th>\n",
       "      <th></th>\n",
       "      <th></th>\n",
       "    </tr>\n",
       "  </thead>\n",
       "  <tbody>\n",
       "    <tr>\n",
       "      <th>Google Cloud Program Manager</th>\n",
       "      <td>0.0</td>\n",
       "      <td>0.146072</td>\n",
       "      <td>0.0</td>\n",
       "      <td>0.00000</td>\n",
       "      <td>0.0</td>\n",
       "      <td>0.055745</td>\n",
       "      <td>0.0</td>\n",
       "      <td>0.000000</td>\n",
       "      <td>0.0</td>\n",
       "      <td>0.0</td>\n",
       "      <td>...</td>\n",
       "      <td>0.0</td>\n",
       "      <td>0.216209</td>\n",
       "      <td>0.362576</td>\n",
       "      <td>0.244426</td>\n",
       "      <td>0.0</td>\n",
       "      <td>0.285512</td>\n",
       "      <td>0.0</td>\n",
       "      <td>0.0</td>\n",
       "      <td>0.0</td>\n",
       "      <td>0.0</td>\n",
       "    </tr>\n",
       "    <tr>\n",
       "      <th>Supplier Development Engineer (SDE), Cable/Connector</th>\n",
       "      <td>0.0</td>\n",
       "      <td>0.000000</td>\n",
       "      <td>0.0</td>\n",
       "      <td>0.02447</td>\n",
       "      <td>0.0</td>\n",
       "      <td>0.003750</td>\n",
       "      <td>0.0</td>\n",
       "      <td>0.014894</td>\n",
       "      <td>0.0</td>\n",
       "      <td>0.0</td>\n",
       "      <td>...</td>\n",
       "      <td>0.0</td>\n",
       "      <td>0.000000</td>\n",
       "      <td>0.000000</td>\n",
       "      <td>0.003938</td>\n",
       "      <td>0.0</td>\n",
       "      <td>0.000000</td>\n",
       "      <td>0.0</td>\n",
       "      <td>0.0</td>\n",
       "      <td>0.0</td>\n",
       "      <td>0.0</td>\n",
       "    </tr>\n",
       "  </tbody>\n",
       "</table>\n",
       "<p>2 rows × 100 columns</p>\n",
       "</div>"
      ],
      "text/plain": [
       "                                                        0         1    2  \\\n",
       "Title                                                                      \n",
       "Google Cloud Program Manager                          0.0  0.146072  0.0   \n",
       "Supplier Development Engineer (SDE), Cable/Connector  0.0  0.000000  0.0   \n",
       "\n",
       "                                                            3    4         5  \\\n",
       "Title                                                                          \n",
       "Google Cloud Program Manager                          0.00000  0.0  0.055745   \n",
       "Supplier Development Engineer (SDE), Cable/Connector  0.02447  0.0  0.003750   \n",
       "\n",
       "                                                        6         7    8    9  \\\n",
       "Title                                                                           \n",
       "Google Cloud Program Manager                          0.0  0.000000  0.0  0.0   \n",
       "Supplier Development Engineer (SDE), Cable/Connector  0.0  0.014894  0.0  0.0   \n",
       "\n",
       "                                                      ...   90        91  \\\n",
       "Title                                                 ...                  \n",
       "Google Cloud Program Manager                          ...  0.0  0.216209   \n",
       "Supplier Development Engineer (SDE), Cable/Connector  ...  0.0  0.000000   \n",
       "\n",
       "                                                            92        93   94  \\\n",
       "Title                                                                           \n",
       "Google Cloud Program Manager                          0.362576  0.244426  0.0   \n",
       "Supplier Development Engineer (SDE), Cable/Connector  0.000000  0.003938  0.0   \n",
       "\n",
       "                                                            95   96   97   98  \\\n",
       "Title                                                                           \n",
       "Google Cloud Program Manager                          0.285512  0.0  0.0  0.0   \n",
       "Supplier Development Engineer (SDE), Cable/Connector  0.000000  0.0  0.0  0.0   \n",
       "\n",
       "                                                       99  \n",
       "Title                                                      \n",
       "Google Cloud Program Manager                          0.0  \n",
       "Supplier Development Engineer (SDE), Cable/Connector  0.0  \n",
       "\n",
       "[2 rows x 100 columns]"
      ]
     },
     "execution_count": 47,
     "metadata": {},
     "output_type": "execute_result"
    }
   ],
   "source": [
    "df_Responsibilities.head(2)"
   ]
  },
  {
   "cell_type": "code",
   "execution_count": null,
   "metadata": {},
   "outputs": [
    {
     "name": "stdout",
     "output_type": "stream",
     "text": [
      "277    Customer Experience Data Scientist, Google Cloud Support         \n",
      "875    Lead Data Scientist                                              \n",
      "909    Data Scientist / Quantitative Analyst Technical Lead, Engineering\n",
      "933    Data Scientist / Quantitative Analyst Technical Lead, Engineering\n",
      "Name: Title, dtype: object\n"
     ]
    }
   ],
   "source": [
    "pd.set_option('display.max_colwidth', -1)\n",
    "print(df[df.Title.str.contains('Data Scientist')]['Title'])"
   ]
  },
  {
   "cell_type": "code",
   "execution_count": null,
   "metadata": {},
   "outputs": [],
   "source": [
    "Position = df_Responsibilities.loc['Customer Experience Data Scientist, Google Cloud Support']"
   ]
  },
  {
   "cell_type": "code",
   "execution_count": null,
   "metadata": {},
   "outputs": [],
   "source": [
    "similarities_1 = df_Responsibilities.dot(Position)"
   ]
  },
  {
   "cell_type": "code",
   "execution_count": null,
   "metadata": {},
   "outputs": [
    {
     "data": {
      "text/plain": [
       "Title\n",
       "Google Cloud Program Manager                                             0.406549\n",
       "Supplier Development Engineer (SDE), Cable/Connector                     0.004578\n",
       "Data Analyst, Product and Tools Operations, Google Technical Services    0.062576\n",
       "dtype: float64"
      ]
     },
     "execution_count": 51,
     "metadata": {},
     "output_type": "execute_result"
    }
   ],
   "source": [
    "similarities_1[:3]"
   ]
  },
  {
   "cell_type": "code",
   "execution_count": null,
   "metadata": {},
   "outputs": [
    {
     "name": "stdout",
     "output_type": "stream",
     "text": [
      "Title\n",
      "Customer Experience Data Scientist, Google Cloud Support    1.000000\n",
      "Data Analyst, Trust and Safety                              0.597800\n",
      "Compensation Analyst                                        0.564735\n",
      "Marketing Analytics Manager, Retail Marketing               0.564165\n",
      "Head of Creative, Retail Marketing                          0.563088\n",
      "dtype: float64\n"
     ]
    }
   ],
   "source": [
    "print(similarities_1.nlargest())"
   ]
  },
  {
   "cell_type": "markdown",
   "metadata": {},
   "source": [
    "### Let's see if the role is similar and ideal as an alternative."
   ]
  },
  {
   "cell_type": "code",
   "execution_count": null,
   "metadata": {},
   "outputs": [
    {
     "data": {
      "text/html": [
       "<div>\n",
       "<style scoped>\n",
       "    .dataframe tbody tr th:only-of-type {\n",
       "        vertical-align: middle;\n",
       "    }\n",
       "\n",
       "    .dataframe tbody tr th {\n",
       "        vertical-align: top;\n",
       "    }\n",
       "\n",
       "    .dataframe thead th {\n",
       "        text-align: right;\n",
       "    }\n",
       "</style>\n",
       "<table border=\"1\" class=\"dataframe\">\n",
       "  <thead>\n",
       "    <tr style=\"text-align: right;\">\n",
       "      <th></th>\n",
       "      <th>Company</th>\n",
       "      <th>Title</th>\n",
       "      <th>Category</th>\n",
       "      <th>Location</th>\n",
       "      <th>Responsibilities</th>\n",
       "      <th>Minimum_Qualifications</th>\n",
       "      <th>Preferred_Qualifications</th>\n",
       "      <th>Country</th>\n",
       "    </tr>\n",
       "  </thead>\n",
       "  <tbody>\n",
       "    <tr>\n",
       "      <th>277</th>\n",
       "      <td>Google</td>\n",
       "      <td>Customer Experience Data Scientist, Google Cloud Support</td>\n",
       "      <td>Program Management</td>\n",
       "      <td>New York, NY, United States</td>\n",
       "      <td>Create, design and maintain reusable datasets with appropriate architecture to deal with high level of data input complexity.\\nProvide analytical decision making support for key projects when it comes to providing customer experience (CX) insights. Research new ways of modeling data proactively to unlock actionable customer insights or improve processes.\\nContribute to the development of the analytical frameworks, tools, and skills for the Google Cloud Support team.\\nWork with internal teams to translate data and model results into tactical and strategic insights that are clear, complete, accurate and relevant. Be able to provide insights that are understandable and applicable to decision making and meets the needs of varying client audiences; research new algorithms and methods for optimizing quality and support experience improvements.\\nPartner with cross-functional Business Intelligence teams, as well as non-technical stakeholders, to help frame problems, document and prioritize data science requirements. Communicate results of complex technical work clearly.</td>\n",
       "      <td>MBA/MS/MA degree with a quantitative focus (economics, computer science, mathematics, physics, engineering, statistics, or accounting)\\n5 years of quantitative analytics experience with a focus on data analysis, statistical modeling, machine learning, and/or predictive analytics.\\nExperience with statistical software (e.g., R, S-Plus, SAS, or similar).\\nExperience with databases and scripting languages (e.g., Python).</td>\n",
       "      <td>PhD degree with a quantitative focus (economics, computer science, mathematics, physics, engineering, statistics, or accounting)\\nProven experience delivering bespoke analytics to senior stakeholders (problem scoping/definition, modeling, interpretation, presentation)\\nExperience in a multi-channel client/customer support environment (e.g., email, phone, chat, social).\\nAbility to consistently deliver quality outputs in a high paced and dynamic environment, work through ambiguity, with an ability to work to tight deadlines.\\nDemonstrated ability to build strong relationships at all levels as a cross-functional influencer.\\nStrong oral and written communication skills, including the ability to communicate complex findings in a structured and clear manner to technical and non-technical audiences.</td>\n",
       "      <td>United States</td>\n",
       "    </tr>\n",
       "    <tr>\n",
       "      <th>438</th>\n",
       "      <td>Google</td>\n",
       "      <td>Data Analyst, Trust and Safety</td>\n",
       "      <td>Product &amp; Customer Support</td>\n",
       "      <td>Sunnyvale, CA, United States</td>\n",
       "      <td>Perform statistical analyses on huge data sets to determine trends and develop business insights in order to protect Google’s users.\\nUtilize machine learning to scale, and optimize and automate our abuse fighting efforts.\\nAssist with designing and building infrastructure to facilitate analysis and experimentation.\\nDevelop metrics for measuring and understanding Google’s effectiveness at combating fraud. Conduct investigations into sophisticated forms of abuse, take action on fraudsters and close attack vectors.\\nTranslate business needs into data modeling initiatives and work with engineers to put predictive models into production.</td>\n",
       "      <td>BS degree in Computer Science, Applied Mathematics, Statistics, Quantitative Social Sciences, related field or equivalent practical experience.\\n2 years of relevant work experience.\\nProgramming experience in one of the following languages: Python, C++ or Java.</td>\n",
       "      <td>MS degree in Computer Science, Applied Mathematics, Statistics, Quantitative Social Sciences or related field.\\nExperience with cyber security and malware reducing common and unknown computer risks.\\nExperience with machine learning, data mining, or building statistical methods.\\nAbility to thrive in a fun, collaborative and fast-paced environment.</td>\n",
       "      <td>United States</td>\n",
       "    </tr>\n",
       "    <tr>\n",
       "      <th>700</th>\n",
       "      <td>Google</td>\n",
       "      <td>Head of Creative, Retail Marketing</td>\n",
       "      <td>Marketing &amp; Communications</td>\n",
       "      <td>Mountain View, CA, United States</td>\n",
       "      <td>Lead a Creative team of ideation and development of innovative retail marketing campaigns, including effectively manage budgets and invoicing, timelines/schedules, prototypes, design reviews and approvals.\\nTranslate original ideas successfully into 3D retail design solutions supporting Google’s brand and commercial objectives with an understanding how creative ideas will translate globally.\\nTranslate fixture and retail design ideas through various skills (drawing/sketching, ideation, materials, and textures) while understanding the context, insight, and design realities at retail.\\nCreate and contribute to a great design team culture.\\nInterpret and translate complex requirements into simple and beautiful solutions and user experiences and investigate, embrace, and adapt current design and retail trends into your work.</td>\n",
       "      <td>BA/BS degree or equivalent practical experience.\\n13 years of retail design experience with an agency, major retailer (emphasis on hardware/technology environments) or at a consulting firm.\\nPortfolio of a mix between physical space, digital, and print design, including but not limited to a focus on: wired fixture design, store planning, print and POP displays experience.</td>\n",
       "      <td>BA/BS degree in Architecture, Interior Design, or Environmental Design.\\nStrong experience using Adobe creative tools and design or CAD software/technology to visualize designs. Ability to manage electronic files and libraries for use by multiple parties.\\nProven ability to perform and apply design skills, including architectural design, space planning, visual presentation development and layout, proportion and scale.\\nAbility to demonstrate new thinking where creative boundaries around digital and physical integration come together to deliver a rich user experience.\\nAbility to thrive in a rapid-paced environment on multiple projects in a start-up atmosphere. Strong tendencies to self-start and demonstrate initiative to over-deliver.\\nAbility to effectively communicate, lead, and manage complex projects from concept to production within associated timelines with multiple stakeholders and be able to storyboard, illustrate, or translate ideas into designs and develop innovative solutions.</td>\n",
       "      <td>United States</td>\n",
       "    </tr>\n",
       "    <tr>\n",
       "      <th>740</th>\n",
       "      <td>Google</td>\n",
       "      <td>Marketing Analytics Manager, Retail Marketing</td>\n",
       "      <td>Marketing &amp; Communications</td>\n",
       "      <td>Mountain View, CA, United States</td>\n",
       "      <td>Analyze sales and brand uplift due to our retail marketing executions, by analyzing a wide variety of data.\\nLead global analyses of Retail Sales Associate training and engagement impact. Work with internal Retail Operations team to gather appropriate data via store collection or surveys and build models to estimate ROI of various training programs and help influence future business development.\\nLead global analysis of in-store demo device analytics. Work with internal Platform team and external developer of demo mode to gather data and analyze by country.\\nLead development and analysis of datasets to measure retail reach globally at the store level; tie to other data sets in order to run statistical analyses with sales, brand impact, and other measures of success. Develop compelling data visualizations and dashboards to communicate insights effectively.\\nWork cross-functionally with data analyst teams across the hardware and marketing organizations to build data tools (data warehouses, dashboards etc) and drive alignment and ensure a single version of validity between data sources.</td>\n",
       "      <td>Bachelor’s degree in Data Science, Statistics, Engineering, Quantitative Finance or other analytics- related field or equivalent practical experience.\\n5 years of business experience.\\nIndustry experience in SQL, as well as one or more statistical tools (R, SAS, SPSS, Python).</td>\n",
       "      <td>Experience with spreadsheet software.\\nUnderstanding of design and life cycle development of business dashboards/reports.\\nAbility to translate data into insights and craft executive level presentations.\\nAbility to fully comprehend new processes and systems quickly in order to extract and prepare required datasets for analytics.\\nDemonstrated time and project management skills.\\nExcellent critical thinking and written/verbal communication skills.</td>\n",
       "      <td>United States</td>\n",
       "    </tr>\n",
       "    <tr>\n",
       "      <th>1218</th>\n",
       "      <td>Google</td>\n",
       "      <td>Compensation Analyst</td>\n",
       "      <td>People Operations</td>\n",
       "      <td>Mountain View, CA, United States</td>\n",
       "      <td>Build robust data models and analysis leading into each compensation planning cycle and manage tools and resources available for the organizations use during compensation planning.\\nBuild reusable technology to scale and sustain program delivery and reusable analytics to automate insights and findings.\\nManipulate large data sets in complex ways; tease meaning from the numbers and convey findings to leadership.\\nParticipate in the research, development, and administration of assigned compensation programs; monitor program success. Play a governance role in the creation, consultation, and review of compensation policies and processes.\\nWork on projects such as deep dives, market data benchmarking, performance rating analysis and compensation policies. Analyze compensation outcomes and draw conclusions and make recommendations for future consideration.</td>\n",
       "      <td>BA/BS degree in Economics, Psychology, Statistics, Business Administration, or another field that uses quantitative analysis, or equivalent practical experience.\\n3 years of experience in investment banking, strategy consulting and/or executive compensation consulting.</td>\n",
       "      <td>Proficiency with SQL, R, and/or spreadsheet software.\\nClient-service oriented, with the ability to prioritize and work well in an environment with competing demands.\\nInterest in analyzing data, with the ability to see beyond the numbers to drive sound decision-making\\nEffective attention to detail, and written and verbal communications skills.</td>\n",
       "      <td>United States</td>\n",
       "    </tr>\n",
       "  </tbody>\n",
       "</table>\n",
       "</div>"
      ],
      "text/plain": [
       "     Company                                                     Title  \\\n",
       "277   Google  Customer Experience Data Scientist, Google Cloud Support   \n",
       "438   Google  Data Analyst, Trust and Safety                             \n",
       "700   Google  Head of Creative, Retail Marketing                         \n",
       "740   Google  Marketing Analytics Manager, Retail Marketing              \n",
       "1218  Google  Compensation Analyst                                       \n",
       "\n",
       "                        Category                          Location  \\\n",
       "277   Program Management          New York, NY, United States        \n",
       "438   Product & Customer Support  Sunnyvale, CA, United States       \n",
       "700   Marketing & Communications  Mountain View, CA, United States   \n",
       "740   Marketing & Communications  Mountain View, CA, United States   \n",
       "1218  People Operations           Mountain View, CA, United States   \n",
       "\n",
       "                                                                                                                                                                                                                                                                                                                                                                                                                                                                                                                                                                                                                                                                                                                                                                                                                                                                                                                                                                                                                                                                                                                                  Responsibilities  \\\n",
       "277   Create, design and maintain reusable datasets with appropriate architecture to deal with high level of data input complexity.\\nProvide analytical decision making support for key projects when it comes to providing customer experience (CX) insights. Research new ways of modeling data proactively to unlock actionable customer insights or improve processes.\\nContribute to the development of the analytical frameworks, tools, and skills for the Google Cloud Support team.\\nWork with internal teams to translate data and model results into tactical and strategic insights that are clear, complete, accurate and relevant. Be able to provide insights that are understandable and applicable to decision making and meets the needs of varying client audiences; research new algorithms and methods for optimizing quality and support experience improvements.\\nPartner with cross-functional Business Intelligence teams, as well as non-technical stakeholders, to help frame problems, document and prioritize data science requirements. Communicate results of complex technical work clearly.                         \n",
       "438   Perform statistical analyses on huge data sets to determine trends and develop business insights in order to protect Google’s users.\\nUtilize machine learning to scale, and optimize and automate our abuse fighting efforts.\\nAssist with designing and building infrastructure to facilitate analysis and experimentation.\\nDevelop metrics for measuring and understanding Google’s effectiveness at combating fraud. Conduct investigations into sophisticated forms of abuse, take action on fraudsters and close attack vectors.\\nTranslate business needs into data modeling initiatives and work with engineers to put predictive models into production.                                                                                                                                                                                                                                                                                                                                                                                                                                                                             \n",
       "700   Lead a Creative team of ideation and development of innovative retail marketing campaigns, including effectively manage budgets and invoicing, timelines/schedules, prototypes, design reviews and approvals.\\nTranslate original ideas successfully into 3D retail design solutions supporting Google’s brand and commercial objectives with an understanding how creative ideas will translate globally.\\nTranslate fixture and retail design ideas through various skills (drawing/sketching, ideation, materials, and textures) while understanding the context, insight, and design realities at retail.\\nCreate and contribute to a great design team culture.\\nInterpret and translate complex requirements into simple and beautiful solutions and user experiences and investigate, embrace, and adapt current design and retail trends into your work.                                                                                                                                                                                                                                                                               \n",
       "740   Analyze sales and brand uplift due to our retail marketing executions, by analyzing a wide variety of data.\\nLead global analyses of Retail Sales Associate training and engagement impact. Work with internal Retail Operations team to gather appropriate data via store collection or surveys and build models to estimate ROI of various training programs and help influence future business development.\\nLead global analysis of in-store demo device analytics. Work with internal Platform team and external developer of demo mode to gather data and analyze by country.\\nLead development and analysis of datasets to measure retail reach globally at the store level; tie to other data sets in order to run statistical analyses with sales, brand impact, and other measures of success. Develop compelling data visualizations and dashboards to communicate insights effectively.\\nWork cross-functionally with data analyst teams across the hardware and marketing organizations to build data tools (data warehouses, dashboards etc) and drive alignment and ensure a single version of validity between data sources.   \n",
       "1218  Build robust data models and analysis leading into each compensation planning cycle and manage tools and resources available for the organizations use during compensation planning.\\nBuild reusable technology to scale and sustain program delivery and reusable analytics to automate insights and findings.\\nManipulate large data sets in complex ways; tease meaning from the numbers and convey findings to leadership.\\nParticipate in the research, development, and administration of assigned compensation programs; monitor program success. Play a governance role in the creation, consultation, and review of compensation policies and processes.\\nWork on projects such as deep dives, market data benchmarking, performance rating analysis and compensation policies. Analyze compensation outcomes and draw conclusions and make recommendations for future consideration.                                                                                                                                                                                                                                                 \n",
       "\n",
       "                                                                                                                                                                                                                                                                                                                                                                                                                     Minimum_Qualifications  \\\n",
       "277   MBA/MS/MA degree with a quantitative focus (economics, computer science, mathematics, physics, engineering, statistics, or accounting)\\n5 years of quantitative analytics experience with a focus on data analysis, statistical modeling, machine learning, and/or predictive analytics.\\nExperience with statistical software (e.g., R, S-Plus, SAS, or similar).\\nExperience with databases and scripting languages (e.g., Python).   \n",
       "438   BS degree in Computer Science, Applied Mathematics, Statistics, Quantitative Social Sciences, related field or equivalent practical experience.\\n2 years of relevant work experience.\\nProgramming experience in one of the following languages: Python, C++ or Java.                                                                                                                                                                   \n",
       "700   BA/BS degree or equivalent practical experience.\\n13 years of retail design experience with an agency, major retailer (emphasis on hardware/technology environments) or at a consulting firm.\\nPortfolio of a mix between physical space, digital, and print design, including but not limited to a focus on: wired fixture design, store planning, print and POP displays experience.                                                  \n",
       "740   Bachelor’s degree in Data Science, Statistics, Engineering, Quantitative Finance or other analytics- related field or equivalent practical experience.\\n5 years of business experience.\\nIndustry experience in SQL, as well as one or more statistical tools (R, SAS, SPSS, Python).                                                                                                                                                   \n",
       "1218  BA/BS degree in Economics, Psychology, Statistics, Business Administration, or another field that uses quantitative analysis, or equivalent practical experience.\\n3 years of experience in investment banking, strategy consulting and/or executive compensation consulting.                                                                                                                                                           \n",
       "\n",
       "                                                                                                                                                                                                                                                                                                                                                                                                                                                                                                                                                                                                                                                                                                                                                                                                                                                                                                                                                                                                                        Preferred_Qualifications  \\\n",
       "277   PhD degree with a quantitative focus (economics, computer science, mathematics, physics, engineering, statistics, or accounting)\\nProven experience delivering bespoke analytics to senior stakeholders (problem scoping/definition, modeling, interpretation, presentation)\\nExperience in a multi-channel client/customer support environment (e.g., email, phone, chat, social).\\nAbility to consistently deliver quality outputs in a high paced and dynamic environment, work through ambiguity, with an ability to work to tight deadlines.\\nDemonstrated ability to build strong relationships at all levels as a cross-functional influencer.\\nStrong oral and written communication skills, including the ability to communicate complex findings in a structured and clear manner to technical and non-technical audiences.                                                                                                                                                                                                        \n",
       "438   MS degree in Computer Science, Applied Mathematics, Statistics, Quantitative Social Sciences or related field.\\nExperience with cyber security and malware reducing common and unknown computer risks.\\nExperience with machine learning, data mining, or building statistical methods.\\nAbility to thrive in a fun, collaborative and fast-paced environment.                                                                                                                                                                                                                                                                                                                                                                                                                                                                                                                                                                                                                                                                               \n",
       "700   BA/BS degree in Architecture, Interior Design, or Environmental Design.\\nStrong experience using Adobe creative tools and design or CAD software/technology to visualize designs. Ability to manage electronic files and libraries for use by multiple parties.\\nProven ability to perform and apply design skills, including architectural design, space planning, visual presentation development and layout, proportion and scale.\\nAbility to demonstrate new thinking where creative boundaries around digital and physical integration come together to deliver a rich user experience.\\nAbility to thrive in a rapid-paced environment on multiple projects in a start-up atmosphere. Strong tendencies to self-start and demonstrate initiative to over-deliver.\\nAbility to effectively communicate, lead, and manage complex projects from concept to production within associated timelines with multiple stakeholders and be able to storyboard, illustrate, or translate ideas into designs and develop innovative solutions.   \n",
       "740   Experience with spreadsheet software.\\nUnderstanding of design and life cycle development of business dashboards/reports.\\nAbility to translate data into insights and craft executive level presentations.\\nAbility to fully comprehend new processes and systems quickly in order to extract and prepare required datasets for analytics.\\nDemonstrated time and project management skills.\\nExcellent critical thinking and written/verbal communication skills.                                                                                                                                                                                                                                                                                                                                                                                                                                                                                                                                                                          \n",
       "1218  Proficiency with SQL, R, and/or spreadsheet software.\\nClient-service oriented, with the ability to prioritize and work well in an environment with competing demands.\\nInterest in analyzing data, with the ability to see beyond the numbers to drive sound decision-making\\nEffective attention to detail, and written and verbal communications skills.                                                                                                                                                                                                                                                                                                                                                                                                                                                                                                                                                                                                                                                                                  \n",
       "\n",
       "             Country  \n",
       "277    United States  \n",
       "438    United States  \n",
       "700    United States  \n",
       "740    United States  \n",
       "1218   United States  "
      ]
     },
     "execution_count": 53,
     "metadata": {},
     "output_type": "execute_result"
    }
   ],
   "source": [
    "df[np.isin(df['Title'],similarities_1.nlargest().index.tolist())].head()"
   ]
  },
  {
   "cell_type": "code",
   "execution_count": null,
   "metadata": {},
   "outputs": [
    {
     "data": {
      "text/plain": [
       "pandas.core.series.Series"
      ]
     },
     "execution_count": 54,
     "metadata": {},
     "output_type": "execute_result"
    }
   ],
   "source": [
    "type(similarities_1)"
   ]
  },
  {
   "cell_type": "markdown",
   "metadata": {},
   "source": [
    "### In my opinion, the role is a good alternative choice while the requirement could be a blocker. So let's also consider the part of requirements."
   ]
  },
  {
   "cell_type": "code",
   "execution_count": null,
   "metadata": {},
   "outputs": [],
   "source": [
    "vectorizer_Requirements = TfidfVectorizer()\n",
    "vectors_Requirements = vectorizer_Requirements.fit_transform(df['Minimum_Qualifications'])"
   ]
  },
  {
   "cell_type": "code",
   "execution_count": null,
   "metadata": {},
   "outputs": [],
   "source": [
    "Requirements = pipeline.fit_transform(vectors_Requirements)"
   ]
  },
  {
   "cell_type": "code",
   "execution_count": null,
   "metadata": {},
   "outputs": [],
   "source": [
    "df_Requirementss = pd.DataFrame(Requirements,index=df['Title'])"
   ]
  },
  {
   "cell_type": "code",
   "execution_count": null,
   "metadata": {},
   "outputs": [],
   "source": [
    "Position = df_Requirementss.loc['Customer Experience Data Scientist, Google Cloud Support']"
   ]
  },
  {
   "cell_type": "code",
   "execution_count": null,
   "metadata": {},
   "outputs": [],
   "source": [
    "similarities_2 = df_Responsibilities.dot(Position)"
   ]
  },
  {
   "cell_type": "code",
   "execution_count": null,
   "metadata": {},
   "outputs": [
    {
     "name": "stdout",
     "output_type": "stream",
     "text": [
      "Title\n",
      "Research Analyst, Market Insights                          0.714274\n",
      "Research Analyst, Market Insights                          0.714193\n",
      "Research Analyst, Market Insights                          0.714193\n",
      "Internal Controls (SOX) Manager, Cloud Business Finance    0.540838\n",
      "Internal Audit, Technology Auditor                         0.530864\n",
      "dtype: float64\n"
     ]
    }
   ],
   "source": [
    "print(similarities_2.nlargest())"
   ]
  },
  {
   "cell_type": "markdown",
   "metadata": {},
   "source": [
    "Though this looks a bit weird, let's see how we put responsibilities and requirements together first."
   ]
  },
  {
   "cell_type": "code",
   "execution_count": null,
   "metadata": {},
   "outputs": [
    {
     "data": {
      "text/plain": [
       "Title\n",
       "Google Cloud Program Manager                                             0.406549\n",
       "Supplier Development Engineer (SDE), Cable/Connector                     0.004578\n",
       "Data Analyst, Product and Tools Operations, Google Technical Services    0.062576\n",
       "Developer Advocate, Partner Engineering                                  0.000148\n",
       "Program Manager, Audio Visual (AV) Deployments                           0.127973\n",
       "                                                                           ...   \n",
       "Global Investigator                                                      0.148027\n",
       "Campus Security Manager                                                  0.169003\n",
       "Facilities Manager                                                       0.197810\n",
       "Physical Security Manager                                                0.004131\n",
       "Physical Security Manager                                                0.000000\n",
       "Length: 1235, dtype: float64"
      ]
     },
     "execution_count": 61,
     "metadata": {},
     "output_type": "execute_result"
    }
   ],
   "source": [
    "similarities_1"
   ]
  },
  {
   "cell_type": "code",
   "execution_count": null,
   "metadata": {},
   "outputs": [
    {
     "data": {
      "text/html": [
       "<div>\n",
       "<style scoped>\n",
       "    .dataframe tbody tr th:only-of-type {\n",
       "        vertical-align: middle;\n",
       "    }\n",
       "\n",
       "    .dataframe tbody tr th {\n",
       "        vertical-align: top;\n",
       "    }\n",
       "\n",
       "    .dataframe thead th {\n",
       "        text-align: right;\n",
       "    }\n",
       "</style>\n",
       "<table border=\"1\" class=\"dataframe\">\n",
       "  <thead>\n",
       "    <tr style=\"text-align: right;\">\n",
       "      <th></th>\n",
       "      <th>01</th>\n",
       "      <th>0</th>\n",
       "    </tr>\n",
       "    <tr>\n",
       "      <th>Title</th>\n",
       "      <th></th>\n",
       "      <th></th>\n",
       "    </tr>\n",
       "  </thead>\n",
       "  <tbody>\n",
       "    <tr>\n",
       "      <th>APAC Accounting Lead, Non-Ads Products</th>\n",
       "      <td>0.087369</td>\n",
       "      <td>0.040733</td>\n",
       "    </tr>\n",
       "    <tr>\n",
       "      <th>APAC Manager, Employment Tax</th>\n",
       "      <td>0.159682</td>\n",
       "      <td>0.110370</td>\n",
       "    </tr>\n",
       "    <tr>\n",
       "      <th>APAC SMB Account Manager, Google Cloud (Mandarin, Cantonese)</th>\n",
       "      <td>0.146706</td>\n",
       "      <td>0.070990</td>\n",
       "    </tr>\n",
       "    <tr>\n",
       "      <th>AR and VR Writer</th>\n",
       "      <td>0.067355</td>\n",
       "      <td>0.006549</td>\n",
       "    </tr>\n",
       "    <tr>\n",
       "      <th>ASIC Physical Design Engineering Tech Lead &amp; Manager</th>\n",
       "      <td>0.175004</td>\n",
       "      <td>0.151708</td>\n",
       "    </tr>\n",
       "    <tr>\n",
       "      <th>...</th>\n",
       "      <td>...</td>\n",
       "      <td>...</td>\n",
       "    </tr>\n",
       "    <tr>\n",
       "      <th>Web Solutions Engineer, Product and Tools Operations</th>\n",
       "      <td>0.089110</td>\n",
       "      <td>0.058621</td>\n",
       "    </tr>\n",
       "    <tr>\n",
       "      <th>Web Solutions Engineer, Product and Tools Operations</th>\n",
       "      <td>0.089110</td>\n",
       "      <td>0.058621</td>\n",
       "    </tr>\n",
       "    <tr>\n",
       "      <th>Web Solutions Engineer, Product and Tools Operations</th>\n",
       "      <td>0.089110</td>\n",
       "      <td>0.058621</td>\n",
       "    </tr>\n",
       "    <tr>\n",
       "      <th>Web Solutions Engineer, Product and Tools Operations</th>\n",
       "      <td>0.089110</td>\n",
       "      <td>0.058621</td>\n",
       "    </tr>\n",
       "    <tr>\n",
       "      <th>ソフトウェア エンジニア、Chrome OS ビデオ</th>\n",
       "      <td>0.007128</td>\n",
       "      <td>0.000000</td>\n",
       "    </tr>\n",
       "  </tbody>\n",
       "</table>\n",
       "<p>6299 rows × 2 columns</p>\n",
       "</div>"
      ],
      "text/plain": [
       "                                                                    01  \\\n",
       "Title                                                                    \n",
       "APAC Accounting Lead, Non-Ads Products                        0.087369   \n",
       "APAC Manager, Employment Tax                                  0.159682   \n",
       "APAC SMB Account Manager, Google Cloud (Mandarin, Cantonese)  0.146706   \n",
       "AR and VR Writer                                              0.067355   \n",
       "ASIC Physical Design Engineering Tech Lead & Manager          0.175004   \n",
       "...                                                                ...   \n",
       "Web Solutions Engineer, Product and Tools Operations          0.089110   \n",
       "Web Solutions Engineer, Product and Tools Operations          0.089110   \n",
       "Web Solutions Engineer, Product and Tools Operations          0.089110   \n",
       "Web Solutions Engineer, Product and Tools Operations          0.089110   \n",
       "ソフトウェア エンジニア、Chrome OS ビデオ                                    0.007128   \n",
       "\n",
       "                                                                     0  \n",
       "Title                                                                   \n",
       "APAC Accounting Lead, Non-Ads Products                        0.040733  \n",
       "APAC Manager, Employment Tax                                  0.110370  \n",
       "APAC SMB Account Manager, Google Cloud (Mandarin, Cantonese)  0.070990  \n",
       "AR and VR Writer                                              0.006549  \n",
       "ASIC Physical Design Engineering Tech Lead & Manager          0.151708  \n",
       "...                                                                ...  \n",
       "Web Solutions Engineer, Product and Tools Operations          0.058621  \n",
       "Web Solutions Engineer, Product and Tools Operations          0.058621  \n",
       "Web Solutions Engineer, Product and Tools Operations          0.058621  \n",
       "Web Solutions Engineer, Product and Tools Operations          0.058621  \n",
       "ソフトウェア エンジニア、Chrome OS ビデオ                                    0.000000  \n",
       "\n",
       "[6299 rows x 2 columns]"
      ]
     },
     "execution_count": 62,
     "metadata": {},
     "output_type": "execute_result"
    }
   ],
   "source": [
    "similarities_1.rename(\"similarity\")\n",
    "similarities_2.rename(\"similarity\")\n",
    "\n",
    "similarities_1.to_frame().join(similarities_2.to_frame(),lsuffix='1')"
   ]
  },
  {
   "cell_type": "code",
   "execution_count": null,
   "metadata": {},
   "outputs": [],
   "source": [
    "similarities_overall = (2 * similarities_1) + similarities_2"
   ]
  },
  {
   "cell_type": "code",
   "execution_count": null,
   "metadata": {},
   "outputs": [
    {
     "name": "stdout",
     "output_type": "stream",
     "text": [
      "Title\n",
      "Customer Experience Data Scientist, Google Cloud Support    2.360018\n",
      "Research Analyst, Market Insights                           1.682573\n",
      "Research Analyst, Market Insights                           1.681186\n",
      "Research Analyst, Market Insights                           1.681186\n",
      "Marketing Analytics Manager, Retail Marketing               1.621008\n",
      "dtype: float64\n"
     ]
    }
   ],
   "source": [
    "print(similarities_overall.nlargest())"
   ]
  },
  {
   "cell_type": "code",
   "execution_count": null,
   "metadata": {},
   "outputs": [
    {
     "data": {
      "text/html": [
       "<div>\n",
       "<style scoped>\n",
       "    .dataframe tbody tr th:only-of-type {\n",
       "        vertical-align: middle;\n",
       "    }\n",
       "\n",
       "    .dataframe tbody tr th {\n",
       "        vertical-align: top;\n",
       "    }\n",
       "\n",
       "    .dataframe thead th {\n",
       "        text-align: right;\n",
       "    }\n",
       "</style>\n",
       "<table border=\"1\" class=\"dataframe\">\n",
       "  <thead>\n",
       "    <tr style=\"text-align: right;\">\n",
       "      <th></th>\n",
       "      <th>Company</th>\n",
       "      <th>Title</th>\n",
       "      <th>Category</th>\n",
       "      <th>Location</th>\n",
       "      <th>Responsibilities</th>\n",
       "      <th>Minimum_Qualifications</th>\n",
       "      <th>Preferred_Qualifications</th>\n",
       "      <th>Country</th>\n",
       "    </tr>\n",
       "  </thead>\n",
       "  <tbody>\n",
       "    <tr>\n",
       "      <th>277</th>\n",
       "      <td>Google</td>\n",
       "      <td>Customer Experience Data Scientist, Google Cloud Support</td>\n",
       "      <td>Program Management</td>\n",
       "      <td>New York, NY, United States</td>\n",
       "      <td>Create, design and maintain reusable datasets with appropriate architecture to deal with high level of data input complexity.\\nProvide analytical decision making support for key projects when it comes to providing customer experience (CX) insights. Research new ways of modeling data proactively to unlock actionable customer insights or improve processes.\\nContribute to the development of the analytical frameworks, tools, and skills for the Google Cloud Support team.\\nWork with internal teams to translate data and model results into tactical and strategic insights that are clear, complete, accurate and relevant. Be able to provide insights that are understandable and applicable to decision making and meets the needs of varying client audiences; research new algorithms and methods for optimizing quality and support experience improvements.\\nPartner with cross-functional Business Intelligence teams, as well as non-technical stakeholders, to help frame problems, document and prioritize data science requirements. Communicate results of complex technical work clearly.</td>\n",
       "      <td>MBA/MS/MA degree with a quantitative focus (economics, computer science, mathematics, physics, engineering, statistics, or accounting)\\n5 years of quantitative analytics experience with a focus on data analysis, statistical modeling, machine learning, and/or predictive analytics.\\nExperience with statistical software (e.g., R, S-Plus, SAS, or similar).\\nExperience with databases and scripting languages (e.g., Python).</td>\n",
       "      <td>PhD degree with a quantitative focus (economics, computer science, mathematics, physics, engineering, statistics, or accounting)\\nProven experience delivering bespoke analytics to senior stakeholders (problem scoping/definition, modeling, interpretation, presentation)\\nExperience in a multi-channel client/customer support environment (e.g., email, phone, chat, social).\\nAbility to consistently deliver quality outputs in a high paced and dynamic environment, work through ambiguity, with an ability to work to tight deadlines.\\nDemonstrated ability to build strong relationships at all levels as a cross-functional influencer.\\nStrong oral and written communication skills, including the ability to communicate complex findings in a structured and clear manner to technical and non-technical audiences.</td>\n",
       "      <td>United States</td>\n",
       "    </tr>\n",
       "    <tr>\n",
       "      <th>373</th>\n",
       "      <td>Google</td>\n",
       "      <td>Research Analyst, Market Insights</td>\n",
       "      <td>Sales Operations</td>\n",
       "      <td>Hamburg, Germany</td>\n",
       "      <td>Design and implement innovative, unique and robust analyses across internal and external data sources to understand consumer behavior, media consumption and advertising effectiveness.\\nDistill complex data into simple concepts, combining your technical and analytical skills with a curiosity and passion for storytelling and marketing.\\nCollaborate with other analytical and research teams across Google to ensure Market Insights stays abreast of relevant work being done in other parts of the organization.\\nWork with appropriate product/technical teams across Google products to push the limits of what’s possible with our current data sets.\\nWork with the EMEA Large Advertiser and Agency Marketing (LAAM) team to support their narratives and generate insights for marketing materials and events.</td>\n",
       "      <td>BA/BS degree in Statistics, Applied Mathematics, Econometrics, Engineering, Operation Research, Computer Science or related field or equivalent practical experience.\\nExperience in statistical (R, S-Plus, SAS, Python or similar) and database software (SQL or equivalent).\\nAnalytical experience in a sales or marketing environment.\\nAbility to speak and write in English and French or German fluently and idiomatically.</td>\n",
       "      <td>Master’s degree or PhD in Statistics, Applied Mathematics, Operation Research, Computer Science or related field.\\nProject management experience.\\nExperience in consumer insights or advertising effectiveness research and expertise with a wide variety of methodologies.\\nExperience in communicating the outcomes of complex analyses to non-technical audiences.\\nInterest in online advertising, digital media consumption patterns and branding measurement.\\nDistinctive problem-solving and analytical skills with a high degree of analytical rigor. Strategic mindset with strong project management skills.</td>\n",
       "      <td>Germany</td>\n",
       "    </tr>\n",
       "    <tr>\n",
       "      <th>376</th>\n",
       "      <td>Google</td>\n",
       "      <td>Research Analyst, Market Insights</td>\n",
       "      <td>Sales Operations</td>\n",
       "      <td>Paris, France</td>\n",
       "      <td>Design and implement innovative, unique and robust analyses across internal and external data sources to understand consumer behavior, media consumption and advertising effectiveness.\\nDistill complex data into simple concepts, combining your technical and analytical skills with a curiosity and passion for storytelling and marketing.\\nCollaborate with other analytical and research teams across Google to ensure Market Insights stays abreast of relevant work being done in other parts of the organization.\\nWork with appropriate product/technical teams across Google products to push the limits of what’s possible with our current data sets.\\nWork with the EMEA Large Advertiser and Agency Marketing (LAAM) team to support their narratives and generate insights for marketing materials and events.</td>\n",
       "      <td>BA/BS degree in Statistics, Applied Mathematics, Econometrics, Engineering, Operation Research, Computer Science or related field or equivalent practical experience.\\nExperience in statistical (R, S-Plus, SAS, Python or similar) and database software (SQL or equivalent).\\nAnalytical experience in a sales or marketing environment.\\nAbility to speak and write in English and French or German fluently and idiomatically.</td>\n",
       "      <td>Master’s degree or PhD in Statistics, Applied Mathematics, Operation Research, Computer Science or related field.\\nProject management experience.\\nExperience in consumer insights or advertising effectiveness research and expertise with a wide variety of methodologies.\\nExperience in communicating the outcomes of complex analyses to non-technical audiences.\\nInterest in online advertising, digital media consumption patterns and branding measurement.\\nDistinctive problem-solving and analytical skills with a high degree of analytical rigor. Strategic mindset with strong project management skills.</td>\n",
       "      <td>France</td>\n",
       "    </tr>\n",
       "    <tr>\n",
       "      <th>650</th>\n",
       "      <td>Google</td>\n",
       "      <td>Research Analyst, Market Insights</td>\n",
       "      <td>Marketing &amp; Communications</td>\n",
       "      <td>London, United Kingdom</td>\n",
       "      <td>Design and implement innovative, unique and robust analyses across internal and external data sources to understand consumer behavior, media consumption and advertising effectiveness.\\nCrystalize complex data into simple concepts, marrying your technical and analytical skills with a curiosity and passion for storytelling and marketing.\\nCollaborate with other analytical and research teams across Google to ensure market insights stays abreast of relevant work in other parts of the organization.\\nWork with appropriate product/technical teams across Google products to push the limits of what’s possible with our current data sets.\\nWork with the EMEA Large Advertiser &amp; Agency Marketing (LAAM) team to support their narratives and generate insights for marketing materials and events.</td>\n",
       "      <td>BA/BS degree in Statistics, Applied Mathematics, Econometrics, Engineering, Operation Research, Computer Science or related field, or equivalent practical experience.\\nExperience working with statistical (R, S-Plus, SAS, Python or similar) and database software (SQL or equivalent).\\nAnalytical experience in a sales and/or marketing environment.\\nExperience in a Project Management role.</td>\n",
       "      <td>Master’s degree or PhD in Statistics, Applied Mathematics, Operation Research, Computer Science or related field.\\nExperience in consumer insights or advertising effectiveness research.\\nExperience in communicating the outcomes of complex analyses to non-technical audiences.\\nExpertise in a wide variety of methodologies.\\nInterest in online advertising, digital media consumption patterns and branding measurement.\\nDistinctive problem-solving and analytical skills with a high degree of analytical rigor, with the ability to thrive in a fast paced environment on multiple projects with many stakeholders.</td>\n",
       "      <td>United Kingdom</td>\n",
       "    </tr>\n",
       "  </tbody>\n",
       "</table>\n",
       "</div>"
      ],
      "text/plain": [
       "    Company                                                     Title  \\\n",
       "277  Google  Customer Experience Data Scientist, Google Cloud Support   \n",
       "373  Google  Research Analyst, Market Insights                          \n",
       "376  Google  Research Analyst, Market Insights                          \n",
       "650  Google  Research Analyst, Market Insights                          \n",
       "\n",
       "                       Category                     Location  \\\n",
       "277  Program Management          New York, NY, United States   \n",
       "373  Sales Operations            Hamburg, Germany              \n",
       "376  Sales Operations            Paris, France                 \n",
       "650  Marketing & Communications  London, United Kingdom        \n",
       "\n",
       "                                                                                                                                                                                                                                                                                                                                                                                                                                                                                                                                                                                                                                                                                                                                                                                                                                                                                                                                                                                                                                                                                                           Responsibilities  \\\n",
       "277  Create, design and maintain reusable datasets with appropriate architecture to deal with high level of data input complexity.\\nProvide analytical decision making support for key projects when it comes to providing customer experience (CX) insights. Research new ways of modeling data proactively to unlock actionable customer insights or improve processes.\\nContribute to the development of the analytical frameworks, tools, and skills for the Google Cloud Support team.\\nWork with internal teams to translate data and model results into tactical and strategic insights that are clear, complete, accurate and relevant. Be able to provide insights that are understandable and applicable to decision making and meets the needs of varying client audiences; research new algorithms and methods for optimizing quality and support experience improvements.\\nPartner with cross-functional Business Intelligence teams, as well as non-technical stakeholders, to help frame problems, document and prioritize data science requirements. Communicate results of complex technical work clearly.   \n",
       "373  Design and implement innovative, unique and robust analyses across internal and external data sources to understand consumer behavior, media consumption and advertising effectiveness.\\nDistill complex data into simple concepts, combining your technical and analytical skills with a curiosity and passion for storytelling and marketing.\\nCollaborate with other analytical and research teams across Google to ensure Market Insights stays abreast of relevant work being done in other parts of the organization.\\nWork with appropriate product/technical teams across Google products to push the limits of what’s possible with our current data sets.\\nWork with the EMEA Large Advertiser and Agency Marketing (LAAM) team to support their narratives and generate insights for marketing materials and events.                                                                                                                                                                                                                                                                                          \n",
       "376  Design and implement innovative, unique and robust analyses across internal and external data sources to understand consumer behavior, media consumption and advertising effectiveness.\\nDistill complex data into simple concepts, combining your technical and analytical skills with a curiosity and passion for storytelling and marketing.\\nCollaborate with other analytical and research teams across Google to ensure Market Insights stays abreast of relevant work being done in other parts of the organization.\\nWork with appropriate product/technical teams across Google products to push the limits of what’s possible with our current data sets.\\nWork with the EMEA Large Advertiser and Agency Marketing (LAAM) team to support their narratives and generate insights for marketing materials and events.                                                                                                                                                                                                                                                                                          \n",
       "650  Design and implement innovative, unique and robust analyses across internal and external data sources to understand consumer behavior, media consumption and advertising effectiveness.\\nCrystalize complex data into simple concepts, marrying your technical and analytical skills with a curiosity and passion for storytelling and marketing.\\nCollaborate with other analytical and research teams across Google to ensure market insights stays abreast of relevant work in other parts of the organization.\\nWork with appropriate product/technical teams across Google products to push the limits of what’s possible with our current data sets.\\nWork with the EMEA Large Advertiser & Agency Marketing (LAAM) team to support their narratives and generate insights for marketing materials and events.                                                                                                                                                                                                                                                                                                     \n",
       "\n",
       "                                                                                                                                                                                                                                                                                                                                                                                                                    Minimum_Qualifications  \\\n",
       "277  MBA/MS/MA degree with a quantitative focus (economics, computer science, mathematics, physics, engineering, statistics, or accounting)\\n5 years of quantitative analytics experience with a focus on data analysis, statistical modeling, machine learning, and/or predictive analytics.\\nExperience with statistical software (e.g., R, S-Plus, SAS, or similar).\\nExperience with databases and scripting languages (e.g., Python).   \n",
       "373  BA/BS degree in Statistics, Applied Mathematics, Econometrics, Engineering, Operation Research, Computer Science or related field or equivalent practical experience.\\nExperience in statistical (R, S-Plus, SAS, Python or similar) and database software (SQL or equivalent).\\nAnalytical experience in a sales or marketing environment.\\nAbility to speak and write in English and French or German fluently and idiomatically.     \n",
       "376  BA/BS degree in Statistics, Applied Mathematics, Econometrics, Engineering, Operation Research, Computer Science or related field or equivalent practical experience.\\nExperience in statistical (R, S-Plus, SAS, Python or similar) and database software (SQL or equivalent).\\nAnalytical experience in a sales or marketing environment.\\nAbility to speak and write in English and French or German fluently and idiomatically.     \n",
       "650  BA/BS degree in Statistics, Applied Mathematics, Econometrics, Engineering, Operation Research, Computer Science or related field, or equivalent practical experience.\\nExperience working with statistical (R, S-Plus, SAS, Python or similar) and database software (SQL or equivalent).\\nAnalytical experience in a sales and/or marketing environment.\\nExperience in a Project Management role.                                    \n",
       "\n",
       "                                                                                                                                                                                                                                                                                                                                                                                                                                                                                                                                                                                                                                                                                                                                                                                                                  Preferred_Qualifications  \\\n",
       "277  PhD degree with a quantitative focus (economics, computer science, mathematics, physics, engineering, statistics, or accounting)\\nProven experience delivering bespoke analytics to senior stakeholders (problem scoping/definition, modeling, interpretation, presentation)\\nExperience in a multi-channel client/customer support environment (e.g., email, phone, chat, social).\\nAbility to consistently deliver quality outputs in a high paced and dynamic environment, work through ambiguity, with an ability to work to tight deadlines.\\nDemonstrated ability to build strong relationships at all levels as a cross-functional influencer.\\nStrong oral and written communication skills, including the ability to communicate complex findings in a structured and clear manner to technical and non-technical audiences.   \n",
       "373  Master’s degree or PhD in Statistics, Applied Mathematics, Operation Research, Computer Science or related field.\\nProject management experience.\\nExperience in consumer insights or advertising effectiveness research and expertise with a wide variety of methodologies.\\nExperience in communicating the outcomes of complex analyses to non-technical audiences.\\nInterest in online advertising, digital media consumption patterns and branding measurement.\\nDistinctive problem-solving and analytical skills with a high degree of analytical rigor. Strategic mindset with strong project management skills.                                                                                                                                                                                                                \n",
       "376  Master’s degree or PhD in Statistics, Applied Mathematics, Operation Research, Computer Science or related field.\\nProject management experience.\\nExperience in consumer insights or advertising effectiveness research and expertise with a wide variety of methodologies.\\nExperience in communicating the outcomes of complex analyses to non-technical audiences.\\nInterest in online advertising, digital media consumption patterns and branding measurement.\\nDistinctive problem-solving and analytical skills with a high degree of analytical rigor. Strategic mindset with strong project management skills.                                                                                                                                                                                                                \n",
       "650  Master’s degree or PhD in Statistics, Applied Mathematics, Operation Research, Computer Science or related field.\\nExperience in consumer insights or advertising effectiveness research.\\nExperience in communicating the outcomes of complex analyses to non-technical audiences.\\nExpertise in a wide variety of methodologies.\\nInterest in online advertising, digital media consumption patterns and branding measurement.\\nDistinctive problem-solving and analytical skills with a high degree of analytical rigor, with the ability to thrive in a fast paced environment on multiple projects with many stakeholders.                                                                                                                                                                                                         \n",
       "\n",
       "             Country  \n",
       "277   United States   \n",
       "373   Germany         \n",
       "376   France          \n",
       "650   United Kingdom  "
      ]
     },
     "execution_count": 65,
     "metadata": {},
     "output_type": "execute_result"
    }
   ],
   "source": [
    "df[np.isin(df['Title'],similarities_overall.nlargest(3).index.tolist())].head()"
   ]
  },
  {
   "cell_type": "markdown",
   "metadata": {},
   "source": [
    "### The result is not bad! Though one of the alternative position looks more emphasize soft skills part while another is similar in terms of the hard skills part, I think they both look like a good choice as well."
   ]
  },
  {
   "cell_type": "markdown",
   "metadata": {},
   "source": [
    "## [Text Clustering](#Clustering)"
   ]
  },
  {
   "cell_type": "markdown",
   "metadata": {},
   "source": [
    "#### The purpose of this part is aiming at finding the relevant words, skills, requirements across different roles using Cluster Analysis instead of Word Cloud in my previous project."
   ]
  },
  {
   "cell_type": "code",
   "execution_count": null,
   "metadata": {},
   "outputs": [],
   "source": [
    "from scipy.cluster.vq import kmeans, vq\n",
    "from numpy import random\n",
    "\n",
    "from nltk.tokenize import word_tokenize\n",
    "from nltk.corpus import stopwords\n",
    "from nltk.stem import WordNetLemmatizer\n",
    "import re\n",
    "import string\n",
    "#from sklearn.feature_extraction.stop_words import ENGLISH_STOP_WORDS"
   ]
  },
  {
   "cell_type": "code",
   "execution_count": null,
   "metadata": {},
   "outputs": [],
   "source": []
  },
  {
   "cell_type": "code",
   "execution_count": null,
   "metadata": {},
   "outputs": [
    {
     "data": {
      "text/plain": [
       "'!\"#$%&\\'()*+,-./:;<=>?@[\\\\]^_`{|}~'"
      ]
     },
     "execution_count": 82,
     "metadata": {},
     "output_type": "execute_result"
    }
   ],
   "source": [
    "string.punctuation"
   ]
  },
  {
   "cell_type": "code",
   "execution_count": null,
   "metadata": {},
   "outputs": [],
   "source": [
    "stop_words_0 = set(stopwords.words('english')) \n",
    "stop_words = ['and', 'in', 'of', 'or', 'with','to','on','a']\n",
    "\n",
    "def remove_noise(text):\n",
    "    tokens = word_tokenize(text)\n",
    "    clean_tokens = []\n",
    "    lemmatizer=WordNetLemmatizer()\n",
    "    for token in tokens:\n",
    "        token = re.sub('[!\"#$%&\\'()*+,-./:;<=>?@[\\\\]^_`{|}~]+', '', token)\n",
    "        token = lemmatizer.lemmatize(token.lower())\n",
    "        if len(token) > 1 and token not in stop_words_0 and token not in stop_words:\n",
    "            clean_tokens.append(token)\n",
    "            \n",
    "    return clean_tokens"
   ]
  },
  {
   "cell_type": "code",
   "execution_count": null,
   "metadata": {},
   "outputs": [],
   "source": [
    "# Initialize TfidfVectorizer\n",
    "tfidf_vectorizer = TfidfVectorizer(max_features=100,tokenizer=remove_noise)\n",
    "\n",
    "# Use the .fit_transform() method on the list plots\n",
    "tfidf_matrix = tfidf_vectorizer.fit_transform(df['Minimum_Qualifications'])"
   ]
  },
  {
   "cell_type": "code",
   "execution_count": null,
   "metadata": {},
   "outputs": [],
   "source": [
    "random.seed = 123"
   ]
  },
  {
   "cell_type": "code",
   "execution_count": null,
   "metadata": {},
   "outputs": [
    {
     "data": {
      "image/png": "[encoded data removed]",
      "text/plain": [
       "<Figure size 432x288 with 1 Axes>"
      ]
     },
     "metadata": {},
     "output_type": "display_data"
    }
   ],
   "source": [
    "distortions = []\n",
    "num_clusters = range(2, 25)\n",
    "\n",
    "# Create a list of distortions from the kmeans function\n",
    "for i in num_clusters:\n",
    "    cluster_centers, distortion = kmeans(tfidf_matrix.todense(),i)\n",
    "    distortions.append(distortion)\n",
    "\n",
    "# Create a data frame with two lists - num_clusters, distortions\n",
    "elbow_plot = pd.DataFrame({'num_clusters': num_clusters, 'distortions': distortions})\n",
    "\n",
    "# Creat a line plot of num_clusters and distortions\n",
    "sns.lineplot(x='num_clusters', y='distortions', data = elbow_plot)\n",
    "plt.xticks(num_clusters)\n",
    "plt.title('Clusters and Distortions')\n",
    "plt.show()"
   ]
  },
  {
   "cell_type": "code",
   "execution_count": null,
   "metadata": {},
   "outputs": [
    {
     "name": "stdout",
     "output_type": "stream",
     "text": [
      "['experience', 'data', 'statistic', 'science', 'field']\n",
      "['experience', 'management', 'project', 'year', 'consulting']\n",
      "['relevant', 'experience', 'work', 'year', 'equivalent']\n",
      "['marketing', 'experience', 'year', 'equivalent', 'medium']\n",
      "['2018', 'june', 'program', 'december', 'united']\n",
      "['experience', 'babs', 'equivalent', 'practical', 'degree']\n",
      "['experience', 'sale', 'technology', 'business', 'industry']\n",
      "['student', 'internship', '2018', 'fulltime', 'program']\n",
      "['cloud', 'experience', 'computing', 'technical', 'engineering']\n",
      "['working', 'experience', 'equivalent', 'babs', 'practical']\n",
      "['design', 'experience', 'interaction', 'related', 'field']\n",
      "['experience', 'java', 'technical', 'python', 'javascript']\n",
      "['fluently', 'speak', 'idiomatically', 'write', 'english']\n"
     ]
    }
   ],
   "source": [
    "cluster_centers, distortion = kmeans(tfidf_matrix.todense(),13)\n",
    "\n",
    "# Generate terms from the tfidf_vectorizer object\n",
    "terms = tfidf_vectorizer.get_feature_names()\n",
    "\n",
    "for i in range(13):\n",
    "    # Sort the terms and print top 10 terms\n",
    "    center_terms = dict(zip(terms, list(cluster_centers[i])))\n",
    "    sorted_terms = sorted(center_terms, key=center_terms.get, reverse=True)\n",
    "    print(sorted_terms[:5])"
   ]
  },
  {
   "cell_type": "markdown",
   "metadata": {},
   "source": [
    "With the groups of words, I can tell different groups are from different fields of the positions."
   ]
  },
  {
   "cell_type": "code",
   "execution_count": null,
   "metadata": {},
   "outputs": [],
   "source": [
    "import pickle\n",
    "pickle.dump(tfidf_vectorizer, open('tfidf_vectorizer.pkl', 'wb'))\n",
    "pickle.dump(cluster_centers, open('cluster_centers.pkl', 'wb'))"
   ]
  },
  {
   "cell_type": "code",
   "execution_count": null,
   "metadata": {},
   "outputs": [],
   "source": []
  }
 ],
 "metadata": {
  "kernelspec": {
   "display_name": "myenv",
   "language": "python",
   "name": "myenv"
  },
  "language_info": {
   "codemirror_mode": {
    "name": "ipython",
    "version": 3
   },
   "file_extension": ".py",
   "mimetype": "text/x-python",
   "name": "python",
   "nbconvert_exporter": "python",
   "pygments_lexer": "ipython3",
   "version": "3.6.13"
  }
 },
 "nbformat": 4,
 "nbformat_minor": 4
}
